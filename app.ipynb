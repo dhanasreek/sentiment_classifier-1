{
 "cells": [
  {
   "cell_type": "code",
   "execution_count": 1,
   "metadata": {},
   "outputs": [
    {
     "name": "stderr",
     "output_type": "stream",
     "text": [
      "C:\\Users\\dhanasree\\Anaconda3\\lib\\site-packages\\sklearn\\base.py:253: UserWarning: Trying to unpickle estimator TfidfTransformer from version 0.23.1 when using version 0.20.3. This might lead to breaking code or invalid results. Use at your own risk.\n",
      "  UserWarning)\n",
      "C:\\Users\\dhanasree\\Anaconda3\\lib\\site-packages\\sklearn\\base.py:253: UserWarning: Trying to unpickle estimator TfidfVectorizer from version 0.23.1 when using version 0.20.3. This might lead to breaking code or invalid results. Use at your own risk.\n",
      "  UserWarning)\n"
     ]
    }
   ],
   "source": [
    "from sklearn.naive_bayes import MultinomialNB\n",
    "from xgboost import XGBClassifier\n",
    "from sklearn.feature_extraction.text import TfidfVectorizer\n",
    "from flask import Flask,render_template,url_for,request\n",
    "import pickle\n",
    "import joblib\n",
    "\n",
    "filename = 'xgb_model.pkl'\n",
    "clf = pickle.load(open(filename, 'rb'))\n",
    "cv=pickle.load(open('tfidf.pkl','rb'))"
   ]
  },
  {
   "cell_type": "code",
   "execution_count": null,
   "metadata": {},
   "outputs": [
    {
     "name": "stdout",
     "output_type": "stream",
     "text": [
      " * Serving Flask app \"__main__\" (lazy loading)\n",
      " * Environment: production\n",
      "   WARNING: This is a development server. Do not use it in a production deployment.\n",
      "   Use a production WSGI server instead.\n",
      " * Debug mode: off\n"
     ]
    },
    {
     "name": "stderr",
     "output_type": "stream",
     "text": [
      " * Running on http://127.0.0.1:5000/ (Press CTRL+C to quit)\n",
      "127.0.0.1 - - [05/Oct/2020 09:47:01] \"\u001b[37mGET / HTTP/1.1\u001b[0m\" 200 -\n",
      "127.0.0.1 - - [05/Oct/2020 09:47:01] \"\u001b[36mGET /static/main.css HTTP/1.1\u001b[0m\" 304 -\n",
      "127.0.0.1 - - [05/Oct/2020 09:47:01] \"\u001b[36mGET /static/font-awesome.min.css HTTP/1.1\u001b[0m\" 304 -\n",
      "127.0.0.1 - - [05/Oct/2020 09:47:01] \"\u001b[36mGET /static/util.css HTTP/1.1\u001b[0m\" 304 -\n",
      "127.0.0.1 - - [05/Oct/2020 09:47:01] \"\u001b[33mGET /images/bg-01.jpg HTTP/1.1\u001b[0m\" 404 -\n",
      "127.0.0.1 - - [05/Oct/2020 09:47:01] \"\u001b[36mGET /static/font-awesome.css HTTP/1.1\u001b[0m\" 304 -\n",
      "127.0.0.1 - - [05/Oct/2020 09:47:01] \"\u001b[33mGET /fonts/source-sans-pro/SourceSansPro-Regular.ttf HTTP/1.1\u001b[0m\" 404 -\n",
      "127.0.0.1 - - [05/Oct/2020 09:47:01] \"\u001b[33mGET /fonts/source-sans-pro/SourceSansPro-Bold.ttf HTTP/1.1\u001b[0m\" 404 -\n",
      "127.0.0.1 - - [05/Oct/2020 09:47:01] \"\u001b[33mGET /fonts/source-sans-pro/SourceSansPro-SemiBold.ttf HTTP/1.1\u001b[0m\" 404 -\n",
      "127.0.0.1 - - [05/Oct/2020 09:47:01] \"\u001b[33mGET /favicon.ico HTTP/1.1\u001b[0m\" 404 -\n",
      "127.0.0.1 - - [05/Oct/2020 09:47:18] \"\u001b[37mPOST /predict HTTP/1.1\u001b[0m\" 200 -\n"
     ]
    }
   ],
   "source": [
    "app = Flask(__name__)\n",
    "\n",
    "@app.route('/')\n",
    "def home():\n",
    "\treturn render_template('home.html')\n",
    "\n",
    "@app.route('/predict',methods=['POST'])\n",
    "def predict():\n",
    "\tif request.method == 'POST':\n",
    "\t\tmessage = request.form['message']\n",
    "\t\tdata = [message]\n",
    "\t\tvect = cv.transform(data)\n",
    "\t\tmy_prediction = clf.predict(vect)\n",
    "\treturn render_template('result.html',prediction = my_prediction)\n",
    "\n",
    "if __name__ == '__main__':\n",
    "\tapp.run()"
   ]
  },
  {
   "cell_type": "code",
   "execution_count": null,
   "metadata": {},
   "outputs": [],
   "source": []
  },
  {
   "cell_type": "code",
   "execution_count": null,
   "metadata": {},
   "outputs": [],
   "source": []
  }
 ],
 "metadata": {
  "kernelspec": {
   "display_name": "Python 3",
   "language": "python",
   "name": "python3"
  },
  "language_info": {
   "codemirror_mode": {
    "name": "ipython",
    "version": 3
   },
   "file_extension": ".py",
   "mimetype": "text/x-python",
   "name": "python",
   "nbconvert_exporter": "python",
   "pygments_lexer": "ipython3",
   "version": "3.7.1"
  }
 },
 "nbformat": 4,
 "nbformat_minor": 4
}
