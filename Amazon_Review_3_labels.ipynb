{
 "cells": [
  {
   "cell_type": "code",
   "execution_count": 1,
   "metadata": {},
   "outputs": [
    {
     "data": {
      "text/html": [
       "        <script type=\"text/javascript\">\n",
       "        window.PlotlyConfig = {MathJaxConfig: 'local'};\n",
       "        if (window.MathJax) {MathJax.Hub.Config({SVG: {font: \"STIX-Web\"}});}\n",
       "        if (typeof require !== 'undefined') {\n",
       "        require.undef(\"plotly\");\n",
       "        requirejs.config({\n",
       "            paths: {\n",
       "                'plotly': ['https://cdn.plot.ly/plotly-latest.min']\n",
       "            }\n",
       "        });\n",
       "        require(['plotly'], function(Plotly) {\n",
       "            window._Plotly = Plotly;\n",
       "        });\n",
       "        }\n",
       "        </script>\n",
       "        "
      ]
     },
     "metadata": {},
     "output_type": "display_data"
    },
    {
     "data": {
      "text/html": [
       "        <script type=\"text/javascript\">\n",
       "        window.PlotlyConfig = {MathJaxConfig: 'local'};\n",
       "        if (window.MathJax) {MathJax.Hub.Config({SVG: {font: \"STIX-Web\"}});}\n",
       "        if (typeof require !== 'undefined') {\n",
       "        require.undef(\"plotly\");\n",
       "        requirejs.config({\n",
       "            paths: {\n",
       "                'plotly': ['https://cdn.plot.ly/plotly-latest.min']\n",
       "            }\n",
       "        });\n",
       "        require(['plotly'], function(Plotly) {\n",
       "            window._Plotly = Plotly;\n",
       "        });\n",
       "        }\n",
       "        </script>\n",
       "        "
      ]
     },
     "metadata": {},
     "output_type": "display_data"
    }
   ],
   "source": [
    "import numpy as np\n",
    "import pandas as pd\n",
    "import re\n",
    "import requests\n",
    "import matplotlib.pyplot as plt\n",
    "%matplotlib inline\n",
    "\n",
    "import warnings\n",
    "warnings.filterwarnings('ignore')\n",
    "\n",
    "import plotly as py\n",
    "import cufflinks as cf\n",
    "from plotly.offline import iplot\n",
    "\n",
    "py.offline.init_notebook_mode(connected=True)\n",
    "cf.go_offline()"
   ]
  },
  {
   "cell_type": "code",
   "execution_count": 2,
   "metadata": {},
   "outputs": [
    {
     "data": {
      "text/html": [
       "<div>\n",
       "<style scoped>\n",
       "    .dataframe tbody tr th:only-of-type {\n",
       "        vertical-align: middle;\n",
       "    }\n",
       "\n",
       "    .dataframe tbody tr th {\n",
       "        vertical-align: top;\n",
       "    }\n",
       "\n",
       "    .dataframe thead th {\n",
       "        text-align: right;\n",
       "    }\n",
       "</style>\n",
       "<table border=\"1\" class=\"dataframe\">\n",
       "  <thead>\n",
       "    <tr style=\"text-align: right;\">\n",
       "      <th></th>\n",
       "      <th>rating</th>\n",
       "      <th>reviews</th>\n",
       "      <th>rate_pt</th>\n",
       "    </tr>\n",
       "  </thead>\n",
       "  <tbody>\n",
       "    <tr>\n",
       "      <th>0</th>\n",
       "      <td>5.0 out of 5 stars</td>\n",
       "      <td>\\n\\n  I would say this is the best available Mic in this price range. This m...</td>\n",
       "      <td>5</td>\n",
       "    </tr>\n",
       "    <tr>\n",
       "      <th>1</th>\n",
       "      <td>4.0 out of 5 stars</td>\n",
       "      <td>\\n\\n  Hi,So, after using this mic for about a month I am writing this review...</td>\n",
       "      <td>4</td>\n",
       "    </tr>\n",
       "    <tr>\n",
       "      <th>2</th>\n",
       "      <td>3.0 out of 5 stars</td>\n",
       "      <td>\\n\\n  Product quality was good.. not bad.The build was also good. But one th...</td>\n",
       "      <td>3</td>\n",
       "    </tr>\n",
       "    <tr>\n",
       "      <th>3</th>\n",
       "      <td>1.0 out of 5 stars</td>\n",
       "      <td>\\n\\n  WHEN RECORDING ON PHONE OR LApTOP THE quality was the same as you get ...</td>\n",
       "      <td>1</td>\n",
       "    </tr>\n",
       "    <tr>\n",
       "      <th>4</th>\n",
       "      <td>5.0 out of 5 stars</td>\n",
       "      <td>\\n\\n  I will give my honest review on Boya M1. Read this full and i may help...</td>\n",
       "      <td>5</td>\n",
       "    </tr>\n",
       "  </tbody>\n",
       "</table>\n",
       "</div>"
      ],
      "text/plain": [
       "               rating  \\\n",
       "0  5.0 out of 5 stars   \n",
       "1  4.0 out of 5 stars   \n",
       "2  3.0 out of 5 stars   \n",
       "3  1.0 out of 5 stars   \n",
       "4  5.0 out of 5 stars   \n",
       "\n",
       "                                                                           reviews  \\\n",
       "0  \\n\\n  I would say this is the best available Mic in this price range. This m...   \n",
       "1  \\n\\n  Hi,So, after using this mic for about a month I am writing this review...   \n",
       "2  \\n\\n  Product quality was good.. not bad.The build was also good. But one th...   \n",
       "3  \\n\\n  WHEN RECORDING ON PHONE OR LApTOP THE quality was the same as you get ...   \n",
       "4  \\n\\n  I will give my honest review on Boya M1. Read this full and i may help...   \n",
       "\n",
       "   rate_pt  \n",
       "0        5  \n",
       "1        4  \n",
       "2        3  \n",
       "3        1  \n",
       "4        5  "
      ]
     },
     "execution_count": 2,
     "metadata": {},
     "output_type": "execute_result"
    }
   ],
   "source": [
    "df=pd.read_excel('amazon_reviews.xlsx')\n",
    "pd.set_option('max_colwidth',80)\n",
    "df.head()"
   ]
  },
  {
   "cell_type": "code",
   "execution_count": 3,
   "metadata": {},
   "outputs": [
    {
     "data": {
      "text/plain": [
       "(4839, 3)"
      ]
     },
     "execution_count": 3,
     "metadata": {},
     "output_type": "execute_result"
    }
   ],
   "source": [
    "df.shape"
   ]
  },
  {
   "cell_type": "code",
   "execution_count": 4,
   "metadata": {},
   "outputs": [],
   "source": [
    "# defining an empty data frame to amke a copy of data\n"
   ]
  },
  {
   "cell_type": "code",
   "execution_count": 5,
   "metadata": {},
   "outputs": [
    {
     "data": {
      "text/plain": [
       "0    i would say this is the best available mic in this price range. this mic can...\n",
       "1    hi,so, after using this mic for about a month i am writing this review.so, i...\n",
       "2    product quality was good.. not bad.the build was also good. but one thing i ...\n",
       "3    when recording on phone or laptop the quality was the same as you get from a...\n",
       "4    i will give my honest review on boya m1. read this full and i may help you c...\n",
       "Name: reviews, dtype: object"
      ]
     },
     "execution_count": 5,
     "metadata": {},
     "output_type": "execute_result"
    }
   ],
   "source": [
    "# Converting Strings to Lowercase\n",
    "df['reviews'] = [review.strip().lower() for review in df['reviews']]\n",
    "df['reviews'][:5]"
   ]
  },
  {
   "cell_type": "code",
   "execution_count": 6,
   "metadata": {},
   "outputs": [],
   "source": [
    "contractions = {\n",
    "\"ain't\": \"is not\",\n",
    "\"aren't\": \"are not\",\n",
    "\"can't\": \"cannot\",\n",
    "\"can't've\": \"cannot have\",\n",
    "\"'cause\": \"because\",\n",
    "\"could've\": \"could have\",\n",
    "\"couldn't\": \"could not\",\n",
    "\"couldn't've\": \"could not have\",\n",
    "\"didn't\": \"did not\",\n",
    "\"doesn't\": \"does not\",\n",
    "\"don't\": \"do not\",\n",
    "\"hadn't\": \"had not\",\n",
    "\"hadn't've\": \"had not have\",\n",
    "\"hasn't\": \"has not\",\n",
    "\"haven't\": \"have not\",\n",
    "\"he'd\": \"he would\",\n",
    "\"he'd've\": \"he would have\",\n",
    "\"he'll\": \"he will\",\n",
    "\"he'll've\": \"he he will have\",\n",
    "\"he's\": \"he is\",\n",
    "\"how'd\": \"how did\",\n",
    "\"how'd'y\": \"how do you\",\n",
    "\"how'll\": \"how will\",\n",
    "\"how's\": \"how is\",\n",
    "\"I'd\": \"I would\",\n",
    "\"I'd've\": \"I would have\",\n",
    "\"I'll\": \"I will\",\n",
    "\"I'll've\": \"I will have\",\n",
    "\"I'm\": \"I am\",\n",
    "\"I've\": \"I have\",\n",
    "\"i'd\": \"i would\",\n",
    "\"i'd've\": \"i would have\",\n",
    "\"i'll\": \"i will\",\n",
    "\"i'll've\": \"i will have\",\n",
    "\"i'm\": \"i am\",\n",
    "\"i've\": \"i have\",\n",
    "\"isn't\": \"is not\",\n",
    "\"it'd\": \"it would\",\n",
    "\"it'd've\": \"it would have\",\n",
    "\"it'll\": \"it will\",\n",
    "\"it'll've\": \"it will have\",\n",
    "\"it's\": \"it is\",\n",
    "\"let's\": \"let us\",\n",
    "\"ma'am\": \"madam\",\n",
    "\"mayn't\": \"may not\",\n",
    "\"might've\": \"might have\",\n",
    "\"mightn't\": \"might not\",\n",
    "\"mightn't've\": \"might not have\",\n",
    "\"must've\": \"must have\",\n",
    "\"mustn't\": \"must not\",\n",
    "\"mustn't've\": \"must not have\",\n",
    "\"needn't\": \"need not\",\n",
    "\"needn't've\": \"need not have\",\n",
    "\"o'clock\": \"of the clock\",\n",
    "\"oughtn't\": \"ought not\",\n",
    "\"oughtn't've\": \"ought not have\",\n",
    "\"shan't\": \"shall not\",\n",
    "\"sha'n't\": \"shall not\",\n",
    "\"shan't've\": \"shall not have\",\n",
    "\"she'd\": \"she would\",\n",
    "\"she'd've\": \"she would have\",\n",
    "\"she'll\": \"she will\",\n",
    "\"she'll've\": \"she will have\",\n",
    "\"she's\": \"she is\",\n",
    "\"should've\": \"should have\",\n",
    "\"shouldn't\": \"should not\",\n",
    "\"shouldn't've\": \"should not have\",\n",
    "\"so've\": \"so have\",\n",
    "\"so's\": \"so as\",\n",
    "\"that'd\": \"that would\",\n",
    "\"that'd've\": \"that would have\",\n",
    "\"that's\": \"that is\",\n",
    "\"there'd\": \"there would\",\n",
    "\"there'd've\": \"there would have\",\n",
    "\"there's\": \"there is\",\n",
    "\"they'd\": \"they would\",\n",
    "\"they'd've\": \"they would have\",\n",
    "\"they'll\": \"they will\",\n",
    "\"they'll've\": \"they will have\",\n",
    "\"they're\": \"they are\",\n",
    "\"they've\": \"they have\",\n",
    "\"to've\": \"to have\",\n",
    "\"wasn't\": \"was not\",\n",
    "\"we'd\": \"we would\",\n",
    "\"we'd've\": \"we would have\",\n",
    "\"we'll\": \"we will\",\n",
    "\"we'll've\": \"we will have\",\n",
    "\"we're\": \"we are\",\n",
    "\"we've\": \"we have\",\n",
    "\"weren't\": \"were not\",\n",
    "\"what'll\": \"what will\",\n",
    "\"what'll've\": \"what will have\",\n",
    "\"what're\": \"what are\",\n",
    "\"what's\": \"what is\",\n",
    "\"what've\": \"what have\",\n",
    "\"when's\": \"when is\",\n",
    "\"when've\": \"when have\",\n",
    "\"where'd\": \"where did\",\n",
    "\"where's\": \"where is\",\n",
    "\"where've\": \"where have\",\n",
    "\"who'll\": \"who will\",\n",
    "\"who'll've\": \"who will have\",\n",
    "\"who's\": \"who is\",\n",
    "\"who've\": \"who have\",\n",
    "\"why's\": \"why is\",\n",
    "\"why've\": \"why have\",\n",
    "\"will've\": \"will have\",\n",
    "\"won't\": \"will not\",\n",
    "\"won't've\": \"will not have\",\n",
    "\"would've\": \"would have\",\n",
    "\"wouldn't\": \"would not\",\n",
    "\"wouldn't've\": \"would not have\",\n",
    "\"y'all\": \"you all\",\n",
    "\"y'all'd\": \"you all would\",\n",
    "\"y'all'd've\": \"you all would have\",\n",
    "\"y'all're\": \"you all are\",\n",
    "\"y'all've\": \"you all have\",\n",
    "\"you'd\": \"you would\",\n",
    "\"you'd've\": \"you would have\",\n",
    "\"you'll\": \"you will\",\n",
    "\"you'll've\": \"you will have\",\n",
    "\"you're\": \"you are\",\n",
    "\"you've\": \"you have\"\n",
    "\n",
    "}"
   ]
  },
  {
   "cell_type": "code",
   "execution_count": 7,
   "metadata": {},
   "outputs": [],
   "source": [
    "def expand_contractions(text):\n",
    "    for word in text.split():\n",
    "        if word.lower() in contractions:\n",
    "            text = text.replace(word, contractions[word.lower()])\n",
    "    return text"
   ]
  },
  {
   "cell_type": "code",
   "execution_count": 8,
   "metadata": {},
   "outputs": [
    {
     "data": {
      "text/plain": [
       "0    i would say this is the best available mic in this price range. this mic can...\n",
       "1    hi,so, after using this mic for about a month i am writing this review.so, i...\n",
       "2    product quality was good.. not bad.the build was also good. but one thing i ...\n",
       "3    when recording on phone or laptop the quality was the same as you get from a...\n",
       "4    i will give my honest review on boya m1. read this full and i may help you c...\n",
       "Name: reviews, dtype: object"
      ]
     },
     "execution_count": 8,
     "metadata": {},
     "output_type": "execute_result"
    }
   ],
   "source": [
    "df['reviews'] = [expand_contractions(re.sub('’', \"'\", review)) for review in df['reviews']]\n",
    "df['reviews'].head(5)"
   ]
  },
  {
   "cell_type": "code",
   "execution_count": 9,
   "metadata": {},
   "outputs": [],
   "source": [
    "import unicodedata\n",
    "def remove_accented_chars(text):\n",
    "    text = unicodedata.normalize('NFKD', text).encode('ascii', 'ignore').decode('utf-8', 'ignore')\n",
    "    #https://docs.python.org/2/library/unicodedata.html\n",
    "    return text"
   ]
  },
  {
   "cell_type": "code",
   "execution_count": 10,
   "metadata": {},
   "outputs": [
    {
     "data": {
      "text/plain": [
       "0    i would say this is the best available mic in this price range. this mic can...\n",
       "1    hi,so, after using this mic for about a month i am writing this review.so, i...\n",
       "2    product quality was good.. not bad.the build was also good. but one thing i ...\n",
       "3    when recording on phone or laptop the quality was the same as you get from a...\n",
       "4    i will give my honest review on boya m1. read this full and i may help you c...\n",
       "Name: reviews, dtype: object"
      ]
     },
     "execution_count": 10,
     "metadata": {},
     "output_type": "execute_result"
    }
   ],
   "source": [
    "df['reviews'] = [remove_accented_chars(review) for review in df['reviews']]\n",
    "df['reviews'].head(5)"
   ]
  },
  {
   "cell_type": "code",
   "execution_count": 11,
   "metadata": {},
   "outputs": [],
   "source": [
    "# defining function to scrub special characters\n",
    "def scrub_words(text):\n",
    "    #Replace \\xao characters in text\n",
    "    text = re.sub('\\xa0', ' ', text)\n",
    "    \n",
    "    #Replace non ascii / not words and digits\n",
    "    text = re.sub(\"(\\\\W|\\\\d)\",' ',text)\n",
    "    \n",
    "    #Replace new line characters and following text untill space\n",
    "    text = re.sub('\\n(\\w*?)[\\s]', '', text)\n",
    "    \n",
    "    #Remove html markup\n",
    "    text = re.sub(\"<.*?>\", ' ', text)\n",
    "    \n",
    "    #Remove extra spaces from the text\n",
    "    text = re.sub(\"\\s+\", ' ', text)\n",
    "    return text"
   ]
  },
  {
   "cell_type": "code",
   "execution_count": 12,
   "metadata": {},
   "outputs": [],
   "source": [
    "pd.set_option('display.max_colwidth', -1)"
   ]
  },
  {
   "cell_type": "code",
   "execution_count": 13,
   "metadata": {},
   "outputs": [
    {
     "data": {
      "text/plain": [
       "0    i would say this is the best available mic in this price range this mic can be connected to your dslr smarthones laptops etc pros long wire sound quality is really good and richcons it will pick background noise if you are in a noisy environment but you can use recforge audio recorder app in your smartphone to remove all the noises apart from that it is all gold go for it                                                                                                                                                                                                                                                                                                                                                                                                                                                                                                                                                                                                                                                                                                                                                                                                                                                                                                                                                                                                                                                                                            \n",
       "1    hi so after using this mic for about a month i am writing this review so i will be giving the most genuine review about this mic what a beginner needs a budget mic that is pocket friendly yet gives the best output built quality mic piece is very compact and and handy to use size is small so very convenient to carry anywhere you want cable wire is extraordinarily long meters however that is a great plus point long wire makes recording more easier it has a velcro for cable management so not a difficult task to keep the lengthy wire under control weighs around gms there are no batteries included there s a switch on off button while recording you need to switch to camera mode don t really know why its written camera sound quality my recordings have improved considerably with this mic and i am loving it just one complain i have it captures lot of air flow meaning i can hear lot of air of my mouth in the final output even if i record anything while holding the mic from a considerable distance i can hear my breathing sounds sound quality is loud enough and crisp it does capture my room s ceiling fan sound so i can hear that whoosh sound in the background when i am plugged into my earphones i record with the ac on and keep the fan switched off also it comes with a handy pouch to keep your mic safely yaayyy so finally best for production for a beginner like me because at this price it gives ample quality output \n",
       "2    product quality was good not bad the build was also good but one thing i want to say that please mention that it require a connector to connect with dslr most of entry level dslr or should provide a connector for dslr that is very useful and helpful for the customers because the connecter not available in any local market and when it buy through online shops some of it does not support the mic facility so we cannot get a proper product which support the mic and dslr i bought the product about i think weeks ago but still the product is in new condition that is it is in the box only because i did not get any connector suitable to connect with dslr and mic so kindly provide your own genuine connector for connecting with dslr it is a good and helpful for customers who is buying this product most of all customers are buying it for dslr so kindly do it for your valuable customers                                                                                                                                                                                                                                                                                                                                                                                                                                                                                                                                                            \n",
       "Name: reviews, dtype: object"
      ]
     },
     "execution_count": 13,
     "metadata": {},
     "output_type": "execute_result"
    }
   ],
   "source": [
    "df['reviews'] = [scrub_words(review) for review in df['reviews']]\n",
    "df['reviews'].head(3)"
   ]
  },
  {
   "cell_type": "markdown",
   "metadata": {},
   "source": [
    "### <font> <font color=\"red\"> Checking for NULL_VALUES"
   ]
  },
  {
   "cell_type": "code",
   "execution_count": 14,
   "metadata": {},
   "outputs": [
    {
     "data": {
      "text/plain": [
       "rating     0\n",
       "reviews    0\n",
       "rate_pt    0\n",
       "dtype: int64"
      ]
     },
     "execution_count": 14,
     "metadata": {},
     "output_type": "execute_result"
    }
   ],
   "source": [
    "df.isna().sum()"
   ]
  },
  {
   "cell_type": "markdown",
   "metadata": {},
   "source": [
    "### <font> <font color=\"red\"> Removing stop words from df and applying lemmatization"
   ]
  },
  {
   "cell_type": "code",
   "execution_count": 15,
   "metadata": {},
   "outputs": [],
   "source": [
    "# Importing spacy\n",
    "import spacy\n",
    "\n",
    "\n",
    "# Loading model\n",
    "nlp = spacy.load('en_core_web_sm',disable=['parser', 'ner'])\n",
    "\n",
    "# Lemmatization with stopwords removal\n",
    "df['review_lemm']=df['reviews'].apply(lambda x: ' '.join([token.lemma_ for token in list(nlp(x)) if (token.is_stop==False)]))"
   ]
  },
  {
   "cell_type": "code",
   "execution_count": 16,
   "metadata": {},
   "outputs": [
    {
     "data": {
      "text/plain": [
       "0    well available mic price range mic connect dslr smarthone laptop etc pro long wire sound quality good richcon pick background noise noisy environment use recforge audio recorder app smartphone remove noise apart gold                                                                                                                                                                                                                                                                                                                                                                                                                                                                                                                                                                                                                                       \n",
       "1    hi mic month write review give genuine review mic beginner need budget mic pocket friendly give good output build quality mic piece compact handy use size small convenient carry want cable wire extraordinarily long meter great plus point long wire make record easy velcro cable management difficult task lengthy wire control weigh gms battery include s switch button record need switch camera mode don t know write camera sound quality recording improve considerably mic love complain capture lot air flow meaning hear lot air mouth final output record hold mic considerable distance hear breathing sound sound quality loud crisp capture room s ceiling fan sound hear whoosh sound background plug earphone record ac fan switch come handy pouch mic safely yaayyy finally good production beginner like price give ample quality output\n",
       "Name: review_lemm, dtype: object"
      ]
     },
     "execution_count": 16,
     "metadata": {},
     "output_type": "execute_result"
    }
   ],
   "source": [
    "df['review_lemm'].head(2)"
   ]
  },
  {
   "cell_type": "markdown",
   "metadata": {},
   "source": [
    " ##  <font> <font color=\"red\"> using VADER Sentiment Analysis on reviews to assign labels"
   ]
  },
  {
   "cell_type": "code",
   "execution_count": 17,
   "metadata": {},
   "outputs": [],
   "source": [
    "# Import SentimentIntensityAnalyzer and create an sid object\n",
    "from nltk.sentiment.vader import SentimentIntensityAnalyzer\n",
    "\n",
    "sid = SentimentIntensityAnalyzer()"
   ]
  },
  {
   "cell_type": "code",
   "execution_count": 20,
   "metadata": {},
   "outputs": [
    {
     "data": {
      "text/html": [
       "<div>\n",
       "<style scoped>\n",
       "    .dataframe tbody tr th:only-of-type {\n",
       "        vertical-align: middle;\n",
       "    }\n",
       "\n",
       "    .dataframe tbody tr th {\n",
       "        vertical-align: top;\n",
       "    }\n",
       "\n",
       "    .dataframe thead th {\n",
       "        text-align: right;\n",
       "    }\n",
       "</style>\n",
       "<table border=\"1\" class=\"dataframe\">\n",
       "  <thead>\n",
       "    <tr style=\"text-align: right;\">\n",
       "      <th></th>\n",
       "      <th>reviews</th>\n",
       "      <th>review_lemm</th>\n",
       "    </tr>\n",
       "  </thead>\n",
       "  <tbody>\n",
       "    <tr>\n",
       "      <th>0</th>\n",
       "      <td>i would say this is the best available mic in this price range this mic can be connected to your dslr smarthones laptops etc pros long wire sound quality is really good and richcons it will pick background noise if you are in a noisy environment but you can use recforge audio recorder app in your smartphone to remove all the noises apart from that it is all gold go for it</td>\n",
       "      <td>well available mic price range mic connect dslr smarthone laptop etc pro long wire sound quality good richcon pick background noise noisy environment use recforge audio recorder app smartphone remove noise apart gold</td>\n",
       "    </tr>\n",
       "    <tr>\n",
       "      <th>1</th>\n",
       "      <td>hi so after using this mic for about a month i am writing this review so i will be giving the most genuine review about this mic what a beginner needs a budget mic that is pocket friendly yet gives the best output built quality mic piece is very compact and and handy to use size is small so very convenient to carry anywhere you want cable wire is extraordinarily long meters however that is a great plus point long wire makes recording more easier it has a velcro for cable management so not a difficult task to keep the lengthy wire under control weighs around gms there are no batteries included there s a switch on off button while recording you need to switch to camera mode don t really know why its written camera sound quality my recordings have improved considerably with this mic and i am loving it just one complain i have it captures lot of air flow meaning i can hear lot of air of my mouth in the final output even if i record anything while holding the mic from a considerable distance i can hear my breathing sounds sound quality is loud enough and crisp it does capture my room s ceiling fan sound so i can hear that whoosh sound in the background when i am plugged into my earphones i record with the ac on and keep the fan switched off also it comes with a handy pouch to keep your mic safely yaayyy so finally best for production for a beginner like me because at this price it gives ample quality output</td>\n",
       "      <td>hi mic month write review give genuine review mic beginner need budget mic pocket friendly give good output build quality mic piece compact handy use size small convenient carry want cable wire extraordinarily long meter great plus point long wire make record easy velcro cable management difficult task lengthy wire control weigh gms battery include s switch button record need switch camera mode don t know write camera sound quality recording improve considerably mic love complain capture lot air flow meaning hear lot air mouth final output record hold mic considerable distance hear breathing sound sound quality loud crisp capture room s ceiling fan sound hear whoosh sound background plug earphone record ac fan switch come handy pouch mic safely yaayyy finally good production beginner like price give ample quality output</td>\n",
       "    </tr>\n",
       "  </tbody>\n",
       "</table>\n",
       "</div>"
      ],
      "text/plain": [
       "                                                                                                                                                                                                                                                                                                                                                                                                                                                                                                                                                                                                                                                                                                                                                                                                                                                                                                                                                                                                                                                                                                                                                                                                                                                                                                                                                                                                                                                                              reviews  \\\n",
       "0  i would say this is the best available mic in this price range this mic can be connected to your dslr smarthones laptops etc pros long wire sound quality is really good and richcons it will pick background noise if you are in a noisy environment but you can use recforge audio recorder app in your smartphone to remove all the noises apart from that it is all gold go for it                                                                                                                                                                                                                                                                                                                                                                                                                                                                                                                                                                                                                                                                                                                                                                                                                                                                                                                                                                                                                                                                                               \n",
       "1  hi so after using this mic for about a month i am writing this review so i will be giving the most genuine review about this mic what a beginner needs a budget mic that is pocket friendly yet gives the best output built quality mic piece is very compact and and handy to use size is small so very convenient to carry anywhere you want cable wire is extraordinarily long meters however that is a great plus point long wire makes recording more easier it has a velcro for cable management so not a difficult task to keep the lengthy wire under control weighs around gms there are no batteries included there s a switch on off button while recording you need to switch to camera mode don t really know why its written camera sound quality my recordings have improved considerably with this mic and i am loving it just one complain i have it captures lot of air flow meaning i can hear lot of air of my mouth in the final output even if i record anything while holding the mic from a considerable distance i can hear my breathing sounds sound quality is loud enough and crisp it does capture my room s ceiling fan sound so i can hear that whoosh sound in the background when i am plugged into my earphones i record with the ac on and keep the fan switched off also it comes with a handy pouch to keep your mic safely yaayyy so finally best for production for a beginner like me because at this price it gives ample quality output    \n",
       "\n",
       "                                                                                                                                                                                                                                                                                                                                                                                                                                                                                                                                                                                                                                                                                                                                                                                                                                                       review_lemm  \n",
       "0  well available mic price range mic connect dslr smarthone laptop etc pro long wire sound quality good richcon pick background noise noisy environment use recforge audio recorder app smartphone remove noise apart gold                                                                                                                                                                                                                                                                                                                                                                                                                                                                                                                                                                                                                                         \n",
       "1  hi mic month write review give genuine review mic beginner need budget mic pocket friendly give good output build quality mic piece compact handy use size small convenient carry want cable wire extraordinarily long meter great plus point long wire make record easy velcro cable management difficult task lengthy wire control weigh gms battery include s switch button record need switch camera mode don t know write camera sound quality recording improve considerably mic love complain capture lot air flow meaning hear lot air mouth final output record hold mic considerable distance hear breathing sound sound quality loud crisp capture room s ceiling fan sound hear whoosh sound background plug earphone record ac fan switch come handy pouch mic safely yaayyy finally good production beginner like price give ample quality output  "
      ]
     },
     "execution_count": 20,
     "metadata": {},
     "output_type": "execute_result"
    }
   ],
   "source": [
    "df2=df.drop(['rating','rate_pt'],axis=1)\n",
    "df2.head(2)"
   ]
  },
  {
   "cell_type": "code",
   "execution_count": 21,
   "metadata": {},
   "outputs": [],
   "source": [
    "df2['score'] = df2['reviews'].apply(lambda reviews:sid.polarity_scores(reviews))\n",
    "#df2.head(3)"
   ]
  },
  {
   "cell_type": "code",
   "execution_count": 22,
   "metadata": {},
   "outputs": [],
   "source": [
    "df2['compound']  = df2['score'].apply(lambda score_dict: score_dict['compound'])\n",
    "#df2.head(3)"
   ]
  },
  {
   "cell_type": "code",
   "execution_count": 23,
   "metadata": {},
   "outputs": [],
   "source": [
    "df2['label'] = df2['compound'].apply(lambda c: 'pos' if c >0.05 else('neu'if  c<=0.050 and c>=-0.05 else 'neg'))"
   ]
  },
  {
   "cell_type": "code",
   "execution_count": 24,
   "metadata": {},
   "outputs": [
    {
     "data": {
      "text/html": [
       "<div>\n",
       "<style scoped>\n",
       "    .dataframe tbody tr th:only-of-type {\n",
       "        vertical-align: middle;\n",
       "    }\n",
       "\n",
       "    .dataframe tbody tr th {\n",
       "        vertical-align: top;\n",
       "    }\n",
       "\n",
       "    .dataframe thead th {\n",
       "        text-align: right;\n",
       "    }\n",
       "</style>\n",
       "<table border=\"1\" class=\"dataframe\">\n",
       "  <thead>\n",
       "    <tr style=\"text-align: right;\">\n",
       "      <th></th>\n",
       "      <th>reviews</th>\n",
       "      <th>review_lemm</th>\n",
       "      <th>score</th>\n",
       "      <th>compound</th>\n",
       "      <th>label</th>\n",
       "    </tr>\n",
       "  </thead>\n",
       "  <tbody>\n",
       "    <tr>\n",
       "      <th>0</th>\n",
       "      <td>i would say this is the best available mic in this price range this mic can be connected to your dslr smarthones laptops etc pros long wire sound quality is really good and richcons it will pick background noise if you are in a noisy environment but you can use recforge audio recorder app in your smartphone to remove all the noises apart from that it is all gold go for it</td>\n",
       "      <td>well available mic price range mic connect dslr smarthone laptop etc pro long wire sound quality good richcon pick background noise noisy environment use recforge audio recorder app smartphone remove noise apart gold</td>\n",
       "      <td>{'neg': 0.018, 'neu': 0.917, 'pos': 0.064, 'compound': 0.5182}</td>\n",
       "      <td>0.5182</td>\n",
       "      <td>pos</td>\n",
       "    </tr>\n",
       "    <tr>\n",
       "      <th>1</th>\n",
       "      <td>hi so after using this mic for about a month i am writing this review so i will be giving the most genuine review about this mic what a beginner needs a budget mic that is pocket friendly yet gives the best output built quality mic piece is very compact and and handy to use size is small so very convenient to carry anywhere you want cable wire is extraordinarily long meters however that is a great plus point long wire makes recording more easier it has a velcro for cable management so not a difficult task to keep the lengthy wire under control weighs around gms there are no batteries included there s a switch on off button while recording you need to switch to camera mode don t really know why its written camera sound quality my recordings have improved considerably with this mic and i am loving it just one complain i have it captures lot of air flow meaning i can hear lot of air of my mouth in the final output even if i record anything while holding the mic from a considerable distance i can hear my breathing sounds sound quality is loud enough and crisp it does capture my room s ceiling fan sound so i can hear that whoosh sound in the background when i am plugged into my earphones i record with the ac on and keep the fan switched off also it comes with a handy pouch to keep your mic safely yaayyy so finally best for production for a beginner like me because at this price it gives ample quality output</td>\n",
       "      <td>hi mic month write review give genuine review mic beginner need budget mic pocket friendly give good output build quality mic piece compact handy use size small convenient carry want cable wire extraordinarily long meter great plus point long wire make record easy velcro cable management difficult task lengthy wire control weigh gms battery include s switch button record need switch camera mode don t know write camera sound quality recording improve considerably mic love complain capture lot air flow meaning hear lot air mouth final output record hold mic considerable distance hear breathing sound sound quality loud crisp capture room s ceiling fan sound hear whoosh sound background plug earphone record ac fan switch come handy pouch mic safely yaayyy finally good production beginner like price give ample quality output</td>\n",
       "      <td>{'neg': 0.017, 'neu': 0.832, 'pos': 0.152, 'compound': 0.9889}</td>\n",
       "      <td>0.9889</td>\n",
       "      <td>pos</td>\n",
       "    </tr>\n",
       "    <tr>\n",
       "      <th>2</th>\n",
       "      <td>product quality was good not bad the build was also good but one thing i want to say that please mention that it require a connector to connect with dslr most of entry level dslr or should provide a connector for dslr that is very useful and helpful for the customers because the connecter not available in any local market and when it buy through online shops some of it does not support the mic facility so we cannot get a proper product which support the mic and dslr i bought the product about i think weeks ago but still the product is in new condition that is it is in the box only because i did not get any connector suitable to connect with dslr and mic so kindly provide your own genuine connector for connecting with dslr it is a good and helpful for customers who is buying this product most of all customers are buying it for dslr so kindly do it for your valuable customers</td>\n",
       "      <td>product quality good bad build good thing want mention require connector connect dslr entry level dslr provide connector dslr useful helpful customer connecter available local market buy online shop support mic facility proper product support mic dslr buy product think week ago product new condition box connector suitable connect dslr mic kindly provide genuine connector connect dslr good helpful customer buy product customer buy dslr kindly valuable customer</td>\n",
       "      <td>{'neg': 0.03, 'neu': 0.755, 'pos': 0.216, 'compound': 0.9893}</td>\n",
       "      <td>0.9893</td>\n",
       "      <td>pos</td>\n",
       "    </tr>\n",
       "    <tr>\n",
       "      <th>3</th>\n",
       "      <td>when recording on phone or laptop the quality was the same as you get from a regular headphone i watched review about this product on y tube even on the technical guruji channel its a marketing strategy i guess these are useless microphones with no noise cancellation i dont know about if you r using it on dslr but on fon or pc it will give no special output same fan noise and all returned</td>\n",
       "      <td>record phone laptop quality regular headphone watch review product y tube technical guruji channel marketing strategy guess useless microphone noise cancellation not know r dslr fon pc special output fan noise return</td>\n",
       "      <td>{'neg': 0.083, 'neu': 0.831, 'pos': 0.086, 'compound': 0.296}</td>\n",
       "      <td>0.2960</td>\n",
       "      <td>pos</td>\n",
       "    </tr>\n",
       "    <tr>\n",
       "      <th>4</th>\n",
       "      <td>i will give my honest review on boya m read this full and i may help you clear your dilemma if you need in depth review i have a review video on youtube go to youtube com mobiletechpoint or search for mobile tech point boya m and you will find the review video audio for the entire video has been recorded with boya m i bought boya m for rupees so this is a great pro mic for the price first thing we notice is that the cable is meters long which is super lengthy so you have to be good in cable management it is nice to see that battery unit is made of metal if you use the mic with smartphones you do not need a battery because the mic draws the power from the phone but in case of dslr you need to switch to camera mode good part of this mic is that it can connect with smartphones tablets pc dslr s and external audio recorders like zoom h n that is pretty awesome right for the price we pay this mic gives you excellent quality audio having a meter cable can be an advantage or disadvantage it depends on how you look at it if you are using the mic with external recorder you do not need a m cable but if you are using the mic with a dslr camera and if you want to move around it gives you all the freedom the other only concern that you need to be aware of is since there is no battery indicator you might want to carry an extra battery if you are going to record something important which you do not want to miss at all put in a new battery and you will be fine if you are into audio recording then boya m lavalier mic is a must have even if you have an external audio recorder or a condenser mic get this mic as well i am sure this will come in handy at some point of time if you have any doubts post a comment on my youtube video i will answer your query thanks buy this</td>\n",
       "      <td>honest review boya m read help clear dilemma need depth review review video youtube youtube com mobiletechpoint search mobile tech point boya m find review video audio entire video record boya m buy boya m rupee great pro mic price thing notice cable meter long super lengthy good cable management nice battery unit metal use mic smartphone need battery mic draw power phone case dslr need switch camera mode good mic connect smartphone tablet pc dslr s external audio recorder like zoom h n pretty awesome right price pay mic give excellent quality audio have meter cable advantage disadvantage depend look mic external recorder need m cable mic dslr camera want give freedom concern need aware battery indicator want carry extra battery go record important want miss new battery fine audio recording boya m lavalier mic external audio recorder condenser mic mic sure come handy point time doubt post comment youtube video answer query thank buy</td>\n",
       "      <td>{'neg': 0.031, 'neu': 0.802, 'pos': 0.166, 'compound': 0.9939}</td>\n",
       "      <td>0.9939</td>\n",
       "      <td>pos</td>\n",
       "    </tr>\n",
       "  </tbody>\n",
       "</table>\n",
       "</div>"
      ],
      "text/plain": [
       "                                                                                                                                                                                                                                                                                                                                                                                                                                                                                                                                                                                                                                                                                                                                                                                                                                                                                                                                                                                                                                                                                                                                                                                                                                                                                                                                                                                                                                                                                                                                                                                                                                                                                                                                                                                                                                                reviews  \\\n",
       "0  i would say this is the best available mic in this price range this mic can be connected to your dslr smarthones laptops etc pros long wire sound quality is really good and richcons it will pick background noise if you are in a noisy environment but you can use recforge audio recorder app in your smartphone to remove all the noises apart from that it is all gold go for it                                                                                                                                                                                                                                                                                                                                                                                                                                                                                                                                                                                                                                                                                                                                                                                                                                                                                                                                                                                                                                                                                                                                                                                                                                                                                                                                                                                                                                                                 \n",
       "1  hi so after using this mic for about a month i am writing this review so i will be giving the most genuine review about this mic what a beginner needs a budget mic that is pocket friendly yet gives the best output built quality mic piece is very compact and and handy to use size is small so very convenient to carry anywhere you want cable wire is extraordinarily long meters however that is a great plus point long wire makes recording more easier it has a velcro for cable management so not a difficult task to keep the lengthy wire under control weighs around gms there are no batteries included there s a switch on off button while recording you need to switch to camera mode don t really know why its written camera sound quality my recordings have improved considerably with this mic and i am loving it just one complain i have it captures lot of air flow meaning i can hear lot of air of my mouth in the final output even if i record anything while holding the mic from a considerable distance i can hear my breathing sounds sound quality is loud enough and crisp it does capture my room s ceiling fan sound so i can hear that whoosh sound in the background when i am plugged into my earphones i record with the ac on and keep the fan switched off also it comes with a handy pouch to keep your mic safely yaayyy so finally best for production for a beginner like me because at this price it gives ample quality output                                                                                                                                                                                                                                                                                                                                                                      \n",
       "2  product quality was good not bad the build was also good but one thing i want to say that please mention that it require a connector to connect with dslr most of entry level dslr or should provide a connector for dslr that is very useful and helpful for the customers because the connecter not available in any local market and when it buy through online shops some of it does not support the mic facility so we cannot get a proper product which support the mic and dslr i bought the product about i think weeks ago but still the product is in new condition that is it is in the box only because i did not get any connector suitable to connect with dslr and mic so kindly provide your own genuine connector for connecting with dslr it is a good and helpful for customers who is buying this product most of all customers are buying it for dslr so kindly do it for your valuable customers                                                                                                                                                                                                                                                                                                                                                                                                                                                                                                                                                                                                                                                                                                                                                                                                                                                                                                                                 \n",
       "3  when recording on phone or laptop the quality was the same as you get from a regular headphone i watched review about this product on y tube even on the technical guruji channel its a marketing strategy i guess these are useless microphones with no noise cancellation i dont know about if you r using it on dslr but on fon or pc it will give no special output same fan noise and all returned                                                                                                                                                                                                                                                                                                                                                                                                                                                                                                                                                                                                                                                                                                                                                                                                                                                                                                                                                                                                                                                                                                                                                                                                                                                                                                                                                                                                                                                \n",
       "4  i will give my honest review on boya m read this full and i may help you clear your dilemma if you need in depth review i have a review video on youtube go to youtube com mobiletechpoint or search for mobile tech point boya m and you will find the review video audio for the entire video has been recorded with boya m i bought boya m for rupees so this is a great pro mic for the price first thing we notice is that the cable is meters long which is super lengthy so you have to be good in cable management it is nice to see that battery unit is made of metal if you use the mic with smartphones you do not need a battery because the mic draws the power from the phone but in case of dslr you need to switch to camera mode good part of this mic is that it can connect with smartphones tablets pc dslr s and external audio recorders like zoom h n that is pretty awesome right for the price we pay this mic gives you excellent quality audio having a meter cable can be an advantage or disadvantage it depends on how you look at it if you are using the mic with external recorder you do not need a m cable but if you are using the mic with a dslr camera and if you want to move around it gives you all the freedom the other only concern that you need to be aware of is since there is no battery indicator you might want to carry an extra battery if you are going to record something important which you do not want to miss at all put in a new battery and you will be fine if you are into audio recording then boya m lavalier mic is a must have even if you have an external audio recorder or a condenser mic get this mic as well i am sure this will come in handy at some point of time if you have any doubts post a comment on my youtube video i will answer your query thanks buy this    \n",
       "\n",
       "                                                                                                                                                                                                                                                                                                                                                                                                                                                                                                                                                                                                                                                                                                                                                                                                                                                                                                                                                                          review_lemm  \\\n",
       "0  well available mic price range mic connect dslr smarthone laptop etc pro long wire sound quality good richcon pick background noise noisy environment use recforge audio recorder app smartphone remove noise apart gold                                                                                                                                                                                                                                                                                                                                                                                                                                                                                                                                                                                                                                                                                                                                                             \n",
       "1  hi mic month write review give genuine review mic beginner need budget mic pocket friendly give good output build quality mic piece compact handy use size small convenient carry want cable wire extraordinarily long meter great plus point long wire make record easy velcro cable management difficult task lengthy wire control weigh gms battery include s switch button record need switch camera mode don t know write camera sound quality recording improve considerably mic love complain capture lot air flow meaning hear lot air mouth final output record hold mic considerable distance hear breathing sound sound quality loud crisp capture room s ceiling fan sound hear whoosh sound background plug earphone record ac fan switch come handy pouch mic safely yaayyy finally good production beginner like price give ample quality output                                                                                                                      \n",
       "2  product quality good bad build good thing want mention require connector connect dslr entry level dslr provide connector dslr useful helpful customer connecter available local market buy online shop support mic facility proper product support mic dslr buy product think week ago product new condition box connector suitable connect dslr mic kindly provide genuine connector connect dslr good helpful customer buy product customer buy dslr kindly valuable customer                                                                                                                                                                                                                                                                                                                                                                                                                                                                                                      \n",
       "3  record phone laptop quality regular headphone watch review product y tube technical guruji channel marketing strategy guess useless microphone noise cancellation not know r dslr fon pc special output fan noise return                                                                                                                                                                                                                                                                                                                                                                                                                                                                                                                                                                                                                                                                                                                                                             \n",
       "4  honest review boya m read help clear dilemma need depth review review video youtube youtube com mobiletechpoint search mobile tech point boya m find review video audio entire video record boya m buy boya m rupee great pro mic price thing notice cable meter long super lengthy good cable management nice battery unit metal use mic smartphone need battery mic draw power phone case dslr need switch camera mode good mic connect smartphone tablet pc dslr s external audio recorder like zoom h n pretty awesome right price pay mic give excellent quality audio have meter cable advantage disadvantage depend look mic external recorder need m cable mic dslr camera want give freedom concern need aware battery indicator want carry extra battery go record important want miss new battery fine audio recording boya m lavalier mic external audio recorder condenser mic mic sure come handy point time doubt post comment youtube video answer query thank buy   \n",
       "\n",
       "                                                            score  compound  \\\n",
       "0  {'neg': 0.018, 'neu': 0.917, 'pos': 0.064, 'compound': 0.5182}  0.5182     \n",
       "1  {'neg': 0.017, 'neu': 0.832, 'pos': 0.152, 'compound': 0.9889}  0.9889     \n",
       "2  {'neg': 0.03, 'neu': 0.755, 'pos': 0.216, 'compound': 0.9893}   0.9893     \n",
       "3  {'neg': 0.083, 'neu': 0.831, 'pos': 0.086, 'compound': 0.296}   0.2960     \n",
       "4  {'neg': 0.031, 'neu': 0.802, 'pos': 0.166, 'compound': 0.9939}  0.9939     \n",
       "\n",
       "  label  \n",
       "0  pos   \n",
       "1  pos   \n",
       "2  pos   \n",
       "3  pos   \n",
       "4  pos   "
      ]
     },
     "execution_count": 24,
     "metadata": {},
     "output_type": "execute_result"
    }
   ],
   "source": [
    "df2.head()"
   ]
  },
  {
   "cell_type": "code",
   "execution_count": 25,
   "metadata": {},
   "outputs": [],
   "source": [
    "df2.drop(['score','compound','review_lemm'],inplace=True,axis=1)\n",
    "#df2.head()"
   ]
  },
  {
   "cell_type": "code",
   "execution_count": 26,
   "metadata": {},
   "outputs": [],
   "source": [
    "df3=pd.DataFrame()\n",
    "df3=df2.copy()\n",
    "df3.to_excel(\"Amazon_labels_3.xlsx\",index=False)"
   ]
  },
  {
   "cell_type": "code",
   "execution_count": null,
   "metadata": {},
   "outputs": [],
   "source": []
  },
  {
   "cell_type": "code",
   "execution_count": null,
   "metadata": {},
   "outputs": [],
   "source": []
  },
  {
   "cell_type": "code",
   "execution_count": null,
   "metadata": {},
   "outputs": [],
   "source": []
  }
 ],
 "metadata": {
  "kernelspec": {
   "display_name": "Python 3",
   "language": "python",
   "name": "python3"
  },
  "language_info": {
   "codemirror_mode": {
    "name": "ipython",
    "version": 3
   },
   "file_extension": ".py",
   "mimetype": "text/x-python",
   "name": "python",
   "nbconvert_exporter": "python",
   "pygments_lexer": "ipython3",
   "version": "3.8.3"
  }
 },
 "nbformat": 4,
 "nbformat_minor": 4
}
